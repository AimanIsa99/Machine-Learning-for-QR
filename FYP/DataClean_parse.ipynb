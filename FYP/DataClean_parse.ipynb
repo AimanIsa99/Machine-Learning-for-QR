{
 "cells": [
  {
   "cell_type": "code",
   "execution_count": 1,
   "metadata": {},
   "outputs": [],
   "source": [
    "import pandas as pd\n",
    "from urllib.parse import urlparse"
   ]
  },
  {
   "cell_type": "code",
   "execution_count": 2,
   "metadata": {},
   "outputs": [
    {
     "data": {
      "text/html": [
       "<div>\n",
       "<style scoped>\n",
       "    .dataframe tbody tr th:only-of-type {\n",
       "        vertical-align: middle;\n",
       "    }\n",
       "\n",
       "    .dataframe tbody tr th {\n",
       "        vertical-align: top;\n",
       "    }\n",
       "\n",
       "    .dataframe thead th {\n",
       "        text-align: right;\n",
       "    }\n",
       "</style>\n",
       "<table border=\"1\" class=\"dataframe\">\n",
       "  <thead>\n",
       "    <tr style=\"text-align: right;\">\n",
       "      <th></th>\n",
       "      <th>url</th>\n",
       "      <th>label</th>\n",
       "    </tr>\n",
       "  </thead>\n",
       "  <tbody>\n",
       "    <tr>\n",
       "      <td>0</td>\n",
       "      <td>diaryofagameaddict.com</td>\n",
       "      <td>bad</td>\n",
       "    </tr>\n",
       "    <tr>\n",
       "      <td>1</td>\n",
       "      <td>espdesign.com.au</td>\n",
       "      <td>bad</td>\n",
       "    </tr>\n",
       "    <tr>\n",
       "      <td>2</td>\n",
       "      <td>iamagameaddict.com</td>\n",
       "      <td>bad</td>\n",
       "    </tr>\n",
       "    <tr>\n",
       "      <td>3</td>\n",
       "      <td>kalantzis.net</td>\n",
       "      <td>bad</td>\n",
       "    </tr>\n",
       "    <tr>\n",
       "      <td>4</td>\n",
       "      <td>slightlyoffcenter.net</td>\n",
       "      <td>bad</td>\n",
       "    </tr>\n",
       "    <tr>\n",
       "      <td>...</td>\n",
       "      <td>...</td>\n",
       "      <td>...</td>\n",
       "    </tr>\n",
       "    <tr>\n",
       "      <td>420459</td>\n",
       "      <td>23.227.196.215/</td>\n",
       "      <td>bad</td>\n",
       "    </tr>\n",
       "    <tr>\n",
       "      <td>420460</td>\n",
       "      <td>apple-checker.org/</td>\n",
       "      <td>bad</td>\n",
       "    </tr>\n",
       "    <tr>\n",
       "      <td>420461</td>\n",
       "      <td>apple-iclods.org/</td>\n",
       "      <td>bad</td>\n",
       "    </tr>\n",
       "    <tr>\n",
       "      <td>420462</td>\n",
       "      <td>apple-uptoday.org/</td>\n",
       "      <td>bad</td>\n",
       "    </tr>\n",
       "    <tr>\n",
       "      <td>420463</td>\n",
       "      <td>apple-search.info</td>\n",
       "      <td>bad</td>\n",
       "    </tr>\n",
       "  </tbody>\n",
       "</table>\n",
       "<p>420464 rows × 2 columns</p>\n",
       "</div>"
      ],
      "text/plain": [
       "                           url label\n",
       "0       diaryofagameaddict.com   bad\n",
       "1             espdesign.com.au   bad\n",
       "2           iamagameaddict.com   bad\n",
       "3                kalantzis.net   bad\n",
       "4        slightlyoffcenter.net   bad\n",
       "...                        ...   ...\n",
       "420459         23.227.196.215/   bad\n",
       "420460      apple-checker.org/   bad\n",
       "420461       apple-iclods.org/   bad\n",
       "420462      apple-uptoday.org/   bad\n",
       "420463       apple-search.info   bad\n",
       "\n",
       "[420464 rows x 2 columns]"
      ]
     },
     "execution_count": 2,
     "metadata": {},
     "output_type": "execute_result"
    }
   ],
   "source": [
    "pd.read_csv(r'C:\\Users\\Aiman\\Desktop\\FYP\\data.txt')"
   ]
  },
  {
   "cell_type": "code",
   "execution_count": 3,
   "metadata": {},
   "outputs": [],
   "source": [
    "data=pd.read_csv(r'C:\\Users\\Aiman\\Desktop\\FYP\\data.txt')"
   ]
  },
  {
   "cell_type": "code",
   "execution_count": 4,
   "metadata": {},
   "outputs": [
    {
     "data": {
      "text/plain": [
       "good    344821\n",
       "bad      75643\n",
       "Name: label, dtype: int64"
      ]
     },
     "execution_count": 4,
     "metadata": {},
     "output_type": "execute_result"
    }
   ],
   "source": [
    "data['label'].value_counts()"
   ]
  },
  {
   "cell_type": "code",
   "execution_count": 5,
   "metadata": {},
   "outputs": [],
   "source": [
    "def no_of_dir(url): #count_dir\n",
    "    urldir = urlparse(url).path\n",
    "    return urldir.count('/')"
   ]
  },
  {
   "cell_type": "code",
   "execution_count": 6,
   "metadata": {},
   "outputs": [],
   "source": [
    "def fd_length(url): #fd_length\n",
    "    urlpath= urlparse(url).path\n",
    "    try:\n",
    "        return len(urlpath.split('/')[1])\n",
    "    except:\n",
    "        return 0"
   ]
  },
  {
   "cell_type": "code",
   "execution_count": 7,
   "metadata": {},
   "outputs": [],
   "source": [
    "def digit_count(url): #count_digit\n",
    "    digits = 0\n",
    "    for i in url:\n",
    "        if i.isnumeric():\n",
    "            digits = digits + 1\n",
    "    return digits"
   ]
  },
  {
   "cell_type": "code",
   "execution_count": 8,
   "metadata": {
    "scrolled": true
   },
   "outputs": [
    {
     "data": {
      "text/html": [
       "<div>\n",
       "<style scoped>\n",
       "    .dataframe tbody tr th:only-of-type {\n",
       "        vertical-align: middle;\n",
       "    }\n",
       "\n",
       "    .dataframe tbody tr th {\n",
       "        vertical-align: top;\n",
       "    }\n",
       "\n",
       "    .dataframe thead th {\n",
       "        text-align: right;\n",
       "    }\n",
       "</style>\n",
       "<table border=\"1\" class=\"dataframe\">\n",
       "  <thead>\n",
       "    <tr style=\"text-align: right;\">\n",
       "      <th></th>\n",
       "      <th>url</th>\n",
       "      <th>label</th>\n",
       "      <th>url_length</th>\n",
       "      <th>hostname_length</th>\n",
       "      <th>count_dir</th>\n",
       "      <th>fd_length</th>\n",
       "      <th>count-digits</th>\n",
       "    </tr>\n",
       "  </thead>\n",
       "  <tbody>\n",
       "    <tr>\n",
       "      <td>0</td>\n",
       "      <td>diaryofagameaddict.com</td>\n",
       "      <td>bad</td>\n",
       "      <td>22</td>\n",
       "      <td>0</td>\n",
       "      <td>0</td>\n",
       "      <td>0</td>\n",
       "      <td>0</td>\n",
       "    </tr>\n",
       "    <tr>\n",
       "      <td>1</td>\n",
       "      <td>espdesign.com.au</td>\n",
       "      <td>bad</td>\n",
       "      <td>16</td>\n",
       "      <td>0</td>\n",
       "      <td>0</td>\n",
       "      <td>0</td>\n",
       "      <td>0</td>\n",
       "    </tr>\n",
       "    <tr>\n",
       "      <td>2</td>\n",
       "      <td>iamagameaddict.com</td>\n",
       "      <td>bad</td>\n",
       "      <td>18</td>\n",
       "      <td>0</td>\n",
       "      <td>0</td>\n",
       "      <td>0</td>\n",
       "      <td>0</td>\n",
       "    </tr>\n",
       "    <tr>\n",
       "      <td>3</td>\n",
       "      <td>kalantzis.net</td>\n",
       "      <td>bad</td>\n",
       "      <td>13</td>\n",
       "      <td>0</td>\n",
       "      <td>0</td>\n",
       "      <td>0</td>\n",
       "      <td>0</td>\n",
       "    </tr>\n",
       "    <tr>\n",
       "      <td>4</td>\n",
       "      <td>slightlyoffcenter.net</td>\n",
       "      <td>bad</td>\n",
       "      <td>21</td>\n",
       "      <td>0</td>\n",
       "      <td>0</td>\n",
       "      <td>0</td>\n",
       "      <td>0</td>\n",
       "    </tr>\n",
       "  </tbody>\n",
       "</table>\n",
       "</div>"
      ],
      "text/plain": [
       "                      url label  url_length  hostname_length  count_dir  \\\n",
       "0  diaryofagameaddict.com   bad          22                0          0   \n",
       "1        espdesign.com.au   bad          16                0          0   \n",
       "2      iamagameaddict.com   bad          18                0          0   \n",
       "3           kalantzis.net   bad          13                0          0   \n",
       "4   slightlyoffcenter.net   bad          21                0          0   \n",
       "\n",
       "   fd_length  count-digits  \n",
       "0          0             0  \n",
       "1          0             0  \n",
       "2          0             0  \n",
       "3          0             0  \n",
       "4          0             0  "
      ]
     },
     "execution_count": 8,
     "metadata": {},
     "output_type": "execute_result"
    }
   ],
   "source": [
    "data['url_length'] = data['url'].apply(lambda i: len(str(i))) #URL_Lenght\n",
    "data['hostname_length'] = data['url'].apply(lambda i: len(urlparse(i).netloc)) #Hostname_lenght\n",
    "data['count_dir'] = data['url'].apply(lambda i: no_of_dir(i))\n",
    "data['fd_length'] = data['url'].apply(lambda i: fd_length(i))\n",
    "data['count-digits']= data['url'].apply(lambda i: digit_count(i))\n",
    "data.head()"
   ]
  },
  {
   "cell_type": "code",
   "execution_count": 9,
   "metadata": {},
   "outputs": [
    {
     "data": {
      "text/plain": [
       "0     420345\n",
       "39        14\n",
       "26        13\n",
       "17        11\n",
       "15         9\n",
       "12         8\n",
       "22         7\n",
       "18         7\n",
       "13         6\n",
       "14         6\n",
       "16         5\n",
       "20         5\n",
       "34         4\n",
       "11         4\n",
       "10         3\n",
       "19         3\n",
       "21         2\n",
       "23         2\n",
       "24         2\n",
       "30         2\n",
       "7          2\n",
       "46         2\n",
       "25         1\n",
       "27         1\n",
       "Name: hostname_length, dtype: int64"
      ]
     },
     "execution_count": 9,
     "metadata": {},
     "output_type": "execute_result"
    }
   ],
   "source": [
    "data['hostname_length'].value_counts()"
   ]
  },
  {
   "cell_type": "code",
   "execution_count": 10,
   "metadata": {},
   "outputs": [
    {
     "data": {
      "text/plain": [
       "1     140159\n",
       "2     116391\n",
       "3      85187\n",
       "4      39231\n",
       "5      22797\n",
       "6       8436\n",
       "7       3506\n",
       "0       2161\n",
       "8       1531\n",
       "9        473\n",
       "10       241\n",
       "11       159\n",
       "12        90\n",
       "13        38\n",
       "16        28\n",
       "14        11\n",
       "15         8\n",
       "17         5\n",
       "21         4\n",
       "19         3\n",
       "18         2\n",
       "22         2\n",
       "20         1\n",
       "Name: count_dir, dtype: int64"
      ]
     },
     "execution_count": 10,
     "metadata": {},
     "output_type": "execute_result"
    }
   ],
   "source": [
    "data['count_dir'].value_counts()"
   ]
  },
  {
   "cell_type": "code",
   "execution_count": 11,
   "metadata": {},
   "outputs": [
    {
     "data": {
      "text/plain": [
       "4      56892\n",
       "0      54057\n",
       "5      40833\n",
       "6      37819\n",
       "7      27855\n",
       "       ...  \n",
       "155        1\n",
       "146        1\n",
       "408        1\n",
       "147        1\n",
       "212        1\n",
       "Name: fd_length, Length: 176, dtype: int64"
      ]
     },
     "execution_count": 11,
     "metadata": {},
     "output_type": "execute_result"
    }
   ],
   "source": [
    "data['fd_length'].value_counts()"
   ]
  },
  {
   "cell_type": "code",
   "execution_count": 12,
   "metadata": {},
   "outputs": [
    {
     "data": {
      "text/plain": [
       "0      203709\n",
       "4       24596\n",
       "1       22354\n",
       "6       22349\n",
       "2       21662\n",
       "        ...  \n",
       "175         1\n",
       "545         1\n",
       "176         1\n",
       "177         1\n",
       "242         1\n",
       "Name: count-digits, Length: 217, dtype: int64"
      ]
     },
     "execution_count": 12,
     "metadata": {},
     "output_type": "execute_result"
    }
   ],
   "source": [
    "data['count-digits'].value_counts()"
   ]
  },
  {
   "cell_type": "code",
   "execution_count": 13,
   "metadata": {},
   "outputs": [],
   "source": [
    "data.to_csv('parse_finish.csv')"
   ]
  },
  {
   "cell_type": "code",
   "execution_count": null,
   "metadata": {},
   "outputs": [],
   "source": []
  }
 ],
 "metadata": {
  "kernelspec": {
   "display_name": "Python 3",
   "language": "python",
   "name": "python3"
  },
  "language_info": {
   "codemirror_mode": {
    "name": "ipython",
    "version": 3
   },
   "file_extension": ".py",
   "mimetype": "text/x-python",
   "name": "python",
   "nbconvert_exporter": "python",
   "pygments_lexer": "ipython3",
   "version": "3.7.4"
  }
 },
 "nbformat": 4,
 "nbformat_minor": 2
}
